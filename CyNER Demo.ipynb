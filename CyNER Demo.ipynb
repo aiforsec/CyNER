{
 "cells": [
  {
   "attachments": {},
   "cell_type": "markdown",
   "id": "95beae09",
   "metadata": {},
   "source": [
    "#### Train(finetune) transformer on user provided data"
   ]
  },
  {
   "cell_type": "code",
   "execution_count": null,
   "id": "ef41568a",
   "metadata": {},
   "outputs": [],
   "source": [
    "import os\n",
    "\n",
    "os.environ['CUDA_VISIBLE_DEVICES'] = '1,2,3'\n",
    "\n",
    "import cyner\n",
    "\n",
    "cfg = {'checkpoint_dir': '.ckpt',\n",
    "        'dataset': 'dataset/mitre',\n",
    "        'transformers_model': 'xlm-roberta-large',\n",
    "        'lr': 5e-6,\n",
    "        'epochs': 20,\n",
    "        'max_seq_length': 128,\n",
    "        'batch_size': 128}\n",
    "model = cyner.TransformersNER(cfg)\n",
    "model.train()"
   ]
  },
  {
   "attachments": {},
   "cell_type": "markdown",
   "id": "c0343121",
   "metadata": {},
   "source": [
    "#### Import CyNER and get model"
   ]
  },
  {
   "cell_type": "code",
   "execution_count": null,
   "id": "b954353d",
   "metadata": {},
   "outputs": [],
   "source": [
    "import os\n",
    "import cyner\n",
    "\n",
    "# os.environ['CUDA_VISIBLE_DEVICES']='1'\n",
    "\n",
    "with open('sample_text.txt') as f:\n",
    "    text = f.read()\n",
    "print(text)"
   ]
  },
  {
   "attachments": {},
   "cell_type": "markdown",
   "id": "4749a612",
   "metadata": {},
   "source": [
    "#### Model1: Only using pretrained transformers"
   ]
  },
  {
   "cell_type": "code",
   "execution_count": null,
   "id": "3766f0e3",
   "metadata": {},
   "outputs": [],
   "source": [
    "model1 = cyner.CyNER(transformer_model='.ckpt', use_heuristic=False, flair_model=None)"
   ]
  },
  {
   "cell_type": "code",
   "execution_count": null,
   "id": "f8f94a99",
   "metadata": {},
   "outputs": [],
   "source": [
    "entities1 = model1.get_entities(text)\n",
    "\n",
    "for e in entities1:\n",
    "    print(e)"
   ]
  },
  {
   "cell_type": "code",
   "execution_count": null,
   "id": "79fcee8b",
   "metadata": {},
   "outputs": [],
   "source": [
    "del model1"
   ]
  },
  {
   "attachments": {},
   "cell_type": "markdown",
   "id": "b3edc170",
   "metadata": {},
   "source": [
    "#### Model2: Using pretrained transformers and heuristics"
   ]
  },
  {
   "cell_type": "code",
   "execution_count": null,
   "id": "a94605d5",
   "metadata": {},
   "outputs": [],
   "source": [
    "model2 = cyner.CyNER(transformer_model='.ckpt', use_heuristic=True, flair_model=None, priority='HTFS')"
   ]
  },
  {
   "cell_type": "code",
   "execution_count": null,
   "id": "856d5fa4",
   "metadata": {},
   "outputs": [],
   "source": [
    "entities2 = model2.get_entities(text)\n",
    "\n",
    "for e in entities2:\n",
    "    print(e)"
   ]
  },
  {
   "cell_type": "code",
   "execution_count": null,
   "id": "1418492c",
   "metadata": {},
   "outputs": [],
   "source": [
    "del model2"
   ]
  },
  {
   "attachments": {},
   "cell_type": "markdown",
   "id": "dce0f612",
   "metadata": {},
   "source": [
    "#### Model3:  Using pretrained transformers with heuristics and Flair"
   ]
  },
  {
   "cell_type": "code",
   "execution_count": null,
   "id": "0c393f57",
   "metadata": {},
   "outputs": [],
   "source": [
    "model3 = cyner.CyNER(transformer_model='.ckpt', use_heuristic=True, flair_model='ner')"
   ]
  },
  {
   "cell_type": "code",
   "execution_count": null,
   "id": "097ab089",
   "metadata": {},
   "outputs": [],
   "source": [
    "entities3 = model3.get_entities(text)\n",
    "\n",
    "for e in entities3:\n",
    "    print(e)"
   ]
  },
  {
   "cell_type": "code",
   "execution_count": null,
   "id": "c7f90626",
   "metadata": {},
   "outputs": [],
   "source": [
    "del model3"
   ]
  },
  {
   "attachments": {},
   "cell_type": "markdown",
   "id": "fb054956",
   "metadata": {},
   "source": [
    "#### Model4: Using pretrained transformers with heuristics and Spicy and Flair"
   ]
  },
  {
   "cell_type": "code",
   "execution_count": null,
   "id": "d18f72b2",
   "metadata": {},
   "outputs": [],
   "source": [
    "model4 = cyner.CyNER(transformer_model='.ckpt', use_heuristic=True, spacy_model='en_core_web_sm')"
   ]
  },
  {
   "cell_type": "code",
   "execution_count": null,
   "id": "89a79024",
   "metadata": {},
   "outputs": [],
   "source": [
    "entities4 = model4.get_entities(text)\n",
    "\n",
    "for e in entities4:\n",
    "    print(e)"
   ]
  },
  {
   "cell_type": "code",
   "execution_count": null,
   "id": "d2f4d759",
   "metadata": {},
   "outputs": [],
   "source": [
    "del model4"
   ]
  },
  {
   "attachments": {},
   "cell_type": "markdown",
   "id": "1d6ffd4a",
   "metadata": {},
   "source": [
    "#### Save outputs"
   ]
  },
  {
   "cell_type": "code",
   "execution_count": 37,
   "id": "3f84c046",
   "metadata": {},
   "outputs": [],
   "source": [
    "with open('sample_text_output.txt', 'w') as f:\n",
    "    f.write('# Input text\\n\\n' + text + '\\n\\n')\n",
    "    f.write('# Model1: Only using pretrained transformers\\n\\n')\n",
    "    f.write('\\n'.join(e.__str__() for e in entities1) + '\\n\\n')\n",
    "    f.write('# Model2: Using pretrained transformers and heuristics\\n\\n')\n",
    "    f.write('\\n'.join(e.__str__() for e in entities2) + '\\n\\n')\n",
    "    f.write('# Model3:  Using pretrained transformers with heuristics and Flair\\n\\n')\n",
    "    f.write('\\n'.join(e.__str__() for e in entities3) + '\\n\\n')\n",
    "    f.write('# Model4: Using pretrained transformers with heuristics and Spicy and Flair\\n\\n')\n",
    "    f.write('\\n'.join(e.__str__() for e in entities4))"
   ]
  },
  {
   "cell_type": "code",
   "execution_count": null,
   "id": "7e61f2f8",
   "metadata": {},
   "outputs": [],
   "source": []
  }
 ],
 "metadata": {
  "kernelspec": {
   "display_name": "Python 3 (ipykernel)",
   "language": "python",
   "name": "python3"
  },
  "language_info": {
   "codemirror_mode": {
    "name": "ipython",
    "version": 3
   },
   "file_extension": ".py",
   "mimetype": "text/x-python",
   "name": "python",
   "nbconvert_exporter": "python",
   "pygments_lexer": "ipython3",
   "version": "3.7.16"
  }
 },
 "nbformat": 4,
 "nbformat_minor": 5
}
